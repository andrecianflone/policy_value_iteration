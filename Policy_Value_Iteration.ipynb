{
  "nbformat": 4,
  "nbformat_minor": 0,
  "metadata": {
    "colab": {
      "name": "Policy_Value_Iteration.ipynb",
      "provenance": [],
      "collapsed_sections": [],
      "include_colab_link": true
    },
    "kernelspec": {
      "name": "python3",
      "display_name": "Python 3"
    }
  },
  "cells": [
    {
      "cell_type": "markdown",
      "metadata": {
        "id": "view-in-github",
        "colab_type": "text"
      },
      "source": [
        "<a href=\"https://colab.research.google.com/github/andrecianflone/policy_value_iteration/blob/master/Policy_Value_Iteration.ipynb\" target=\"_parent\"><img src=\"https://colab.research.google.com/assets/colab-badge.svg\" alt=\"Open In Colab\"/></a>"
      ]
    },
    {
      "cell_type": "markdown",
      "metadata": {
        "id": "5-DWMKZnJRD1",
        "colab_type": "text"
      },
      "source": [
        "\n",
        "## Policy Iteration\n",
        "The state-value function for any given policy $\\pi$ can be evaluated as:\n",
        "$$\n",
        "\\newcommand{\\given}{|}\n",
        "\\newcommand{\\states}{S}\n",
        "\\newcommand{\\E}{\\mathbb{E}}\n",
        "\\newcommand{\\actions}{A}\n",
        "\\newcommand{\\argmax}{\\text{argmax}}\n",
        "\\newcommand{\\R}{\\mathbb{R}}\n",
        "V_\\pi (s) = \\sum_a \\pi(a\\given s) \\left[r(s,a) + \\gamma P(s^\\prime \\given s,a) V_\\pi (s^\\prime)\\right]\n",
        "$$\n",
        "\n",
        "for all $s \\in \\states$\n",
        "\n",
        "Equivalently, we can write the above as a function of state-action values:\n",
        "\n",
        "$$\n",
        "V_\\pi (s) = \\sum_a \\pi(a \\given s) q_\\pi(s,a)\n",
        "$$\n",
        "\n",
        "Which must be less than or equal to the max q-value:\n",
        "\n",
        "$$\n",
        "V_\\pi (s) = \\sum_a \\pi(a \\given s) q_\\pi(s,a) \\leq \\max_a q_\\pi(s,a)\n",
        "$$\n",
        "\n",
        "We perform a policy step improvement to get new policy $\\pi^\\prime$:\n",
        "\n",
        "$$\n",
        "\\pi^\\prime(a|s) = \\argmax_a q_\\pi (s,a)\n",
        "$$\n",
        "\n",
        "Then the following is true:\n",
        "\n",
        "$$\n",
        "V_\\pi (s) = \\sum_a \\pi(a \\given s) q_\\pi(s,a) \\leq \\sum_a \\pi^\\prime(a \\given s) q_\\pi(s,a)\n",
        "$$\n",
        "\n",
        "And if we improve again:\n",
        "\n",
        "$$\n",
        "\\pi^{\\prime\\prime} = (a|s) = \\argmax_a q_{\\pi^\\prime} (s,a)\n",
        "$$\n",
        "\n",
        "Then the following is also true:\n",
        "\n",
        "$$\n",
        "V_\\pi (s) = \\sum_a \\pi(a \\given s) q_\\pi(s,a) \\leq \\sum_a \\pi^\\prime(a \\given s) q_\\pi(s,a) \\leq \\sum_a \\pi^{\\prime\\prime}(a \\given s) q_{\\pi^\\prime}(s,a)\n",
        "$$\n",
        "\n",
        "And so on for all $s\\in \\states$. Since every application of policy iteration must result in a better policy, as evaluated by the value function, successive policies are nondecreasing. And, since the MDP is finite, therefore there is a finite set of policies, policy iteration *must* terminate. If such new policy results in state values equal to the states values under the previous policy, then the optimal policy must have been found."
      ]
    },
    {
      "cell_type": "markdown",
      "metadata": {
        "id": "W28vCF2l2yj4",
        "colab_type": "text"
      },
      "source": [
        "# Track 1: Policy Iteration and Value Iteration\n",
        "\n",
        "\n",
        "# Policy Iteration\n",
        "Policy iteration alternates between evaluating a policy and improving a policy. Policy evaluation is defined as the expected future reward, defined as the expectation for the infinite sum of discounted rewards:\n",
        "\n",
        "\n",
        "\n",
        "$$\n",
        "\\begin{aligned}\n",
        "    v_\\pi(s) &= \\E_\\pi\\left[ \\sum_{t=0}^\\infty \\gamma^t r(S_t, A_t) \\given S_0 = s\\right] \\\\\n",
        "    &=\\E_\\pi\\left[ r(S_0, A_0) + \\sum_{t=1}^\\infty \\gamma^t r(S_t, A_t) \\given S_0 = s\\right] \\\\\n",
        "    &=\\E_\\pi\\left[ r(S_0, A_0) + \\sum_{t=0}^\\infty \\gamma^{t+1} r(S_{t+1}, A_{t+1}) \\given S_0 = s\\right] \\\\\n",
        "    &=\\E_\\pi\\left[ r(S_0, A_0) + \\gamma \\sum_{t=0}^\\infty \\gamma^{t} r(S_{t+1}, A_{t+1}) \\given S_0 = s\\right] \\\\    \n",
        "    &=\\E_\\pi\\left[ r(S_0, A_0) + \\gamma v_\\pi(S_1) \\given S_0 = s\\right] \\\\  \n",
        "\\end{aligned}\n",
        "$$\n",
        "\n",
        "Replacing the definition of the expectation with policy $\\pi$ and transition probability matrix $P$, we get:\n",
        "$$\n",
        "v_\\pi(s) = \\sum_{a \\in \\actions} \\pi\\left(a \\given s\\right)\\left( r(s, a) + \\gamma \\sum_{s'} P\\left(s' \\given s, a\\right) v_\\pi(s')\\right)\n",
        "$$\n",
        "\n",
        "Note this definition is slightly different, but equivalent to the notation in S&B, page 58:\n",
        "\n",
        "$$\n",
        "\\begin{aligned}\n",
        "v_\\pi (s) &= \\E_\\pi \\left[ G_t \\given S_t = s\\right]\\\\\n",
        "&= \\E_\\pi \\left[ R_{t+1} + \\gamma G_{t+1} \\given S_t = s\\right]\\\\\n",
        "&= \\E_\\pi \\left[ R_{t+1} + \\gamma v_\\pi ( S_{t+1}) \\mid S_t = s \\right]\\\\\n",
        "&= \\sum_a \\pi(a|s) \\sum_{s^\\prime, r} p(s^\\prime, r \\mid s,a) \\left[r + \\gamma v_\\pi (s^\\prime)\\right]\n",
        "\\end{aligned}\n",
        "$$\n",
        "\n",
        "The pseudo code uses the latter notation, but we implement the algorithm with the former notation.\n",
        "\n",
        "We implement policy evaluation in matrix form. To do so, we define the following:\n",
        "\n",
        "$$\n",
        "\\begin{align*}\n",
        "    r_\\pi(s) \\defeq \\sum_{a} \\pi\\left(a \\given s\\right) r(s,a) \\hspace{2em}P_\\pi(s, s') \\defeq \\sum_{a} \\pi\\left(a \\given s\\right) P\\left(s' \\given s, a\\right)\\enspace ,\n",
        "\\end{align*}\n",
        "$$\n",
        "\n",
        "where $r_\\pi \\in \\R^{|\\states|}$, $P_\\pi \\in \\R^{|\\states|\\times|\\states|}, v_\\pi \\in \\R^{\\states}$. In this form, $v_\\pi$ is defined as:\n",
        "$$\n",
        "v_\\pi = r_\\pi + \\gamma P_\\pi v_\\pi\n",
        "$$\n",
        "\n",
        "Since we are solving for $v_\\pi$ iteratively, as opposed to closed form, we must keep track of our changing policy, and stationary reward functions. These are represented as matrices, where $\\pi(a \\given s) \\in \\R^{|\\states| \\times|\\actions|}$ and $r(s,a) \\in \\R^{|\\states| \\times |\\actions|}$.\n",
        "\n",
        "Pseudo code for policy iteration, which includes policy evaluation and improvement, from S&B p.63\n",
        "\n",
        "![policy iteration](https://image.ibb.co/daZKdm/policy_iteration.png)\n",
        "\n"
      ]
    },
    {
      "cell_type": "markdown",
      "metadata": {
        "id": "g2scNk1gGhhT",
        "colab_type": "text"
      },
      "source": [
        "## Policy and Value Iteration\n",
        "\n",
        "\n",
        "$$\n",
        "\\def\\E{\\mathbb{E}}\n",
        "\\def\\R{\\mathbb{R}}\n",
        "\\def\\given{\\mid}\n",
        "\\def\\actions{\\mathcal{A}}\n",
        "\\def\\states{\\mathcal{S}}\n",
        "\\def\\defeq{\\dot=}\n",
        "\\def\\argmax{\\text{argmax}}\n",
        "$$\n",
        "\n",
        "## Bellman Optimality Equation\n",
        "The Bellman Optimality Equation is defined as:\n",
        "\n",
        "$$\n",
        "V_* = \\max_a [r(s,a) + \\gamma \\sum_{s^\\prime} P(s^\\prime \\given s,a) V_* (s^\\prime)]\n",
        "$$\n",
        "\n",
        "For each step $k$, The Bellman Optimality Operator updates an estimate of $V_*$, that is $V_{k+1}$ based on previous estimate $V_{k}$:\n",
        "\n",
        "$$\n",
        "V_{k+1} = \\max_a [r(s,a) + \\gamma \\sum_{s^\\prime} P(s^\\prime \\given s,a) V_k (s^\\prime)]\n",
        "$$\n",
        "\n",
        "Let the error in our estimate be defined as the absolute distance between the estimate and the true value:\n",
        "\n",
        "$$\n",
        "\\epsilon_{k} = \\mid V_k - V_*|\n",
        "$$\n",
        "\n",
        "In the worst case, our error is upper bounded by the infinity norm:\n",
        "\n",
        "$$\n",
        "\\lVert V_k - V_* \\rVert_\\infty = \\max_s\\left| V_k (s) - V_*(s) \\right|\n",
        "$$\n",
        "\n",
        "Using these equations, let's apply the Bellman Optimality operator and show that with our error function it is a contraction operator:\n",
        "\n",
        "$$\n",
        "\\begin{aligned}\n",
        "V_{k+1} - V_* &= \\left| \\max_a \\left[r(s,a) + \\gamma \\sum_{s^\\prime}P(s^\\prime \\given s,a)V_k(s^\\prime)\\right] - \\max_a \\left[r(s,a) + \\gamma \\sum_{s^\\prime}P(s^\\prime \\given s,a)V_*(s^\\prime)\\right] \\right| \\\\\n",
        "&\\leq \\max_a\\left|  r(s,a) + \\gamma \\sum_{s^\\prime}P(s^\\prime \\given s,a)V_k(s^\\prime) - r(s,a) + \\gamma \\sum_{s^\\prime}P(s^\\prime \\given s,a)V_*(s^\\prime)\\right| \\\\\n",
        "&= \\max_a\\left|\\gamma \\sum_{s^\\prime}P(s^\\prime \\given s,a)V_k(s^\\prime) -  \\gamma \\sum_{s^\\prime}P(s^\\prime \\given s,a)V_*(s^\\prime)\\right| \\\\\n",
        "&= \\gamma \\max_a\\left|\\sum_{s^\\prime}P(s^\\prime \\given s,a)\\left[V_k(s^\\prime) - V_*(s^\\prime)\\right]\\right| \\\\\n",
        "&\\leq \\gamma \\max_a\\left|\\max_{s}\\left[V_k(s) - V_*(s)\\right]\\right| \\\\\n",
        "&= \\gamma \\max_{s}\\left|V_k(s) - V_*(s)\\right| \\\\\n",
        "&= \\gamma \\lVert V_k - V_* \\rVert_\\infty\n",
        "\\end{aligned}\n",
        "$$\n",
        "\n",
        "Since applying one iteration of the operator must result in a decreasing error for all states $s \\in \\states$, with error equal to zero in the limit, the Bellman optimality operator is a contraction mapping.  \n"
      ]
    },
    {
      "cell_type": "markdown",
      "metadata": {
        "id": "ISvuHhgPYy2U",
        "colab_type": "text"
      },
      "source": [
        "# Value Iteration\n",
        "One downside to policy iteration, which is clear from the pseudo code, is that after every stage of policy improvement we must re-evaluate our policy in a full sweep. We can combine policy improvement and evaluation into *value iteration*. For all $s \\in \\states$, value iteration is defined by the update rule:\n",
        "\n",
        "$$\n",
        "\\begin{aligned}\n",
        "v_{k+1}(s) \\defeq &\\max_a \\E \\left[R_{t+1} + \\gamma v_k (S_{t+1}) \\given S_t = s, A_t = a\\right]\\\\\n",
        "= &\\max_a \\sum_{s^\\prime, r} p(s^\\prime, r \\given s, a)[r+ \\gamma v_k (s^\\prime)]\n",
        "\\end{aligned}\n",
        "$$\n",
        "\n",
        "After convergence, the optimal policy is derived from the state values, for all $s \\in \\states$:\n",
        "\n",
        "$$\n",
        "\\pi (s) = \\argmax_a \\sum_{s^\\prime, r} p(s^\\prime, r \\given s, a) [r + \\gamma v(s)]\n",
        "$$\n",
        "\n",
        "Pseudo code for value iteration from S&B p.65\n",
        "![value iteration](https://image.ibb.co/jLMfTx/Screen_Shot_2018_02_04_at_9_42_07_PM.png)"
      ]
    },
    {
      "cell_type": "markdown",
      "metadata": {
        "id": "ib2W9eBomtgL",
        "colab_type": "text"
      },
      "source": [
        "# Implementation\n",
        "\n",
        "### Einstein Notation\n",
        "**Note on implementation**: The class `MDPAgent` implements two algorithms: policy iteration and value iteration. In both cases, the algorithms are implemented in matrix form, specifically using [Einstein summation convention](https://en.wikipedia.org/wiki/Einstein_notation) with the help of `numpy.einsum`. This notation is used to make the code more succinct and computationally efficient. If you are unfamiliar with Einstein notation, continue reading, otherwise skip to the section **MDP Agent**. Consider the following common operation. Given the 3-d array $A \\in \\R^{4 \\times 3 \\times 4}$, and vector $b \\in \\R^4$, we wish to compute the element-wise product of $A$ and $b$, with $b$ broadcast in the second and third dimension, followed by a summation over the second and third dimension resulting in vector $c \\in \\R^4$. This can be accomplished in `Numpy` the following way:\n",
        "\n"
      ]
    },
    {
      "cell_type": "code",
      "metadata": {
        "id": "lkceE2sSuNiU",
        "colab_type": "code",
        "outputId": "eac376e4-4b6b-4a0c-8af2-8c8552c4e90a",
        "colab": {
          "base_uri": "https://localhost:8080/",
          "height": 34
        }
      },
      "source": [
        "import numpy as np\n",
        "a = np.random.randint(0,5,(3,2,2))\n",
        "b = np.random.randint(0,5,3)\n",
        "\n",
        "c = a*b[:, None, None] # explicit broadcasting\n",
        "c = np.sum(c, axis=2) # sum 3rd dimension\n",
        "c = np.sum(c, axis=1) # sum 2nd\n",
        "\n",
        "print(c)"
      ],
      "execution_count": 0,
      "outputs": [
        {
          "output_type": "stream",
          "text": [
            "[10 32 24]\n"
          ],
          "name": "stdout"
        }
      ]
    },
    {
      "cell_type": "markdown",
      "metadata": {
        "id": "1ALy3_PVvEsa",
        "colab_type": "text"
      },
      "source": [
        "The first issue is that the equation must be split into multiple lines. Secondly, Python creates temporary arrays, requiring more memory than necessary. We can compute the three lines above with a single function:"
      ]
    },
    {
      "cell_type": "code",
      "metadata": {
        "id": "nPg5c07WvxOl",
        "colab_type": "code",
        "outputId": "59e86f7f-38fc-41a3-8868-47bafa472e03",
        "colab": {
          "base_uri": "https://localhost:8080/",
          "height": 35
        }
      },
      "source": [
        "c = np.einsum('ijk, i->i',a,b)\n",
        "\n",
        "print(c)"
      ],
      "execution_count": 0,
      "outputs": [
        {
          "output_type": "stream",
          "text": [
            "[32 12  8]\n"
          ],
          "name": "stdout"
        }
      ]
    },
    {
      "cell_type": "markdown",
      "metadata": {
        "id": "74e5UDk5yfFX",
        "colab_type": "text"
      },
      "source": [
        "The operation is interpreted by the string argument. The first part, `ijk, i` labels the dimensions of the arrays `a` and `b` respectively. Array `b` has a single dimension, which is identified as `i`, meaning it matches the orientation of dimension `i` of array `a`. Since `b` is a vector, it must be multiplied by broadcasting to match the shape of `a`. The second part of the string, `->i`, tells `numpy` which dimension to return, and therefore how to sum along axes. If we write `->ij`, `numpy` returns a matrix matching the first two dimensions of `a`, and so must sum along dimension `k`. Since we wrote `->i`, `numpy` must sum along dimension `j` and `k`. Einstein notation can be used for dot-products or element-wise multiplication with broadcasting and summation, all in a single numpy function. See [`numpy.einsum`](https://docs.scipy.org/doc/numpy-1.13.0/reference/generated/numpy.einsum.html) documentation for more details."
      ]
    },
    {
      "cell_type": "markdown",
      "metadata": {
        "id": "M9aCVYygwG8K",
        "colab_type": "text"
      },
      "source": [
        "## MDP Agent\n",
        "The `MDPAgent` class implements both policy iteration (class method `policy_iteration`) and value iteration (class method `value_iteration`). In the policy iteration case, the policy can be evaluated in closed form with a matrix inverse (class method `_policy_evaluation_exact`) or by iteration until convergence (class method `_policy_evaluation_modified`). Please read comments in the code for details of each function."
      ]
    },
    {
      "cell_type": "code",
      "metadata": {
        "id": "Qc4D6dkheUQl",
        "colab_type": "code",
        "outputId": "a90a942d-517f-4fee-ce6b-5994a8e6e852",
        "colab": {
          "base_uri": "https://localhost:8080/",
          "height": 175
        }
      },
      "source": [
        "import numpy as np\n",
        "from numpy.linalg import inv\n",
        "from pdb import set_trace\n",
        "import numpy.ma as ma\n",
        "!pip install PTable\n",
        "from prettytable import PrettyTable, ALL\n",
        "from datetime import datetime\n",
        "import matplotlib.pyplot as plt\n",
        "\n",
        "def table_print(arr, headers=\"\",decimals=6):\n",
        "  x = PrettyTable()\n",
        "  x.field_names = headers\n",
        "  a = np.around(arr, decimals)\n",
        "  rows = a.shape[0]\n",
        "  if rows > 1 and a.ndim > 1:\n",
        "    for i in range(rows):\n",
        "      x.add_row([i, *a[i]])\n",
        "  else:\n",
        "    x.add_row(arr)\n",
        "  print(x)\n",
        "  \n",
        "def print_values(v,decimals):\n",
        "  table_print(np.expand_dims(v,1), headers=[\"states\", \"values\"],decimals=decimals)\n",
        "  \n",
        "def print_policy(pi, decimals):\n",
        "  headers = [\"states\"]\n",
        "  #set_trace()\n",
        "  for i in range(pi.shape[1]):\n",
        "     headers.append(\"action \" + str(i))\n",
        "  table_print(pi, headers=headers, decimals=decimals)\n"
      ],
      "execution_count": 0,
      "outputs": [
        {
          "output_type": "stream",
          "text": [
            "Collecting PTable\n",
            "  Downloading https://files.pythonhosted.org/packages/ab/b3/b54301811173ca94119eb474634f120a49cd370f257d1aae5a4abaf12729/PTable-0.9.2.tar.gz\n",
            "Building wheels for collected packages: PTable\n",
            "  Running setup.py bdist_wheel for PTable ... \u001b[?25l-\b \bdone\n",
            "\u001b[?25h  Stored in directory: /root/.cache/pip/wheels/22/cc/2e/55980bfe86393df3e9896146a01f6802978d09d7ebcba5ea56\n",
            "Successfully built PTable\n",
            "Installing collected packages: PTable\n",
            "Successfully installed PTable-0.9.2\n"
          ],
          "name": "stdout"
        }
      ]
    },
    {
      "cell_type": "code",
      "metadata": {
        "id": "MlSCTCSzQ0M9",
        "colab_type": "code",
        "colab": {}
      },
      "source": [
        "class MDPAgent():\n",
        "  def __init__(self, gamma):\n",
        "    \"\"\"\n",
        "    Basic MDP agent, can do policy iteration and value iteration\n",
        "    \"\"\"\n",
        "    self.gamma = gamma # discount rate\n",
        "    self.theta = 0.000001 # convergence threshold\n",
        "\n",
        "  def _initialize_deterministic(self, p, n_states, n_actions):\n",
        "    \"\"\" Initial policy \"\"\"\n",
        "    # Random deterministic policy, array of shape |S| x |A|\n",
        "    r_actions = np.random.randint(0,n_actions,n_states)\n",
        "    pi = np.zeros((r_actions.size, n_actions))\n",
        "    pi[np.arange(r_actions.size), r_actions] = 1\n",
        "    return pi\n",
        "\n",
        "  def _initialize_uniform(self, p, n_states, n_actions):\n",
        "    \"\"\" Initial policy \"\"\"\n",
        "    # Begin with uniform policy: array of shape |S| x |A|\n",
        "    pi = np.full((n_states, n_actions), 1)\n",
        "    pi = pi*np.sum(p, axis=2) # remove invalid actions\n",
        "    base = np.sum(pi, axis=1) # get number of valid actions per state\n",
        "    np.seterr(divide='ignore')\n",
        "    pi = np.nan_to_num(pi/base[:,None]) # divide by number of actions, broadcast\n",
        "    #np.seterr(divide='raise')\n",
        "    return pi\n",
        "\n",
        "  def _policy_evaluation_exact(self, pi, v, r, p):\n",
        "    \"\"\"\n",
        "    Evaluate policy by taking the inverse\n",
        "    Args:\n",
        "      pi: policy, array of shape |S| x |A|\n",
        "      r: rewards, array of shape |S| x |A|\n",
        "      p: state transition probabilities, array of shape |S| x |A| x |S|\n",
        "    Return:\n",
        "      v: 1D array with updated state values\n",
        "    \"\"\"\n",
        "    # Rewards according to policy: Hadamard product and row-wise sum\n",
        "    r_pi = np.einsum('ij,ij->i', pi, r)\n",
        "\n",
        "    # Policy-weighted transitions:\n",
        "    # multiply p by pi by broadcasting pi, then sum second axis\n",
        "    # result is an array of shape |S| x |S|\n",
        "    p_pi = np.einsum('ijk, ij->ik', p, pi)\n",
        "    v = np.dot(inv((np.eye(p_pi.shape[0]) - self.gamma*p_pi)), r_pi)\n",
        "    return v\n",
        "  \n",
        "  \n",
        "  def _policy_evaluation_modified(self, pi, v, r, p):\n",
        "    \"\"\"\n",
        "    Evaluate pi using an initial v estimate and iterate\n",
        "    Args:\n",
        "      pi: policy, array of shape |S| x |A|\n",
        "      v: state values, array of shape |S|\n",
        "      r: rewards, array of shape |S| x |A|\n",
        "      p: state transition probabilities, array of shape |S| x |A| x |S|\n",
        "    Return:\n",
        "      v: 1D array with updated state values\n",
        "    \"\"\"\n",
        "    max_iteration = 10000 # avoid core meltdown\n",
        "    for i in range(max_iteration):\n",
        "      # Rewards according to policy: Hadamard product and row-wise sum\n",
        "      r_pi = np.einsum('ij,ij->i', pi, r)\n",
        "\n",
        "      # Policy-weighted transitions:\n",
        "      # multiply p by pi by broadcasting pi, then sum second axis\n",
        "      # result is an array of shape |S| x |S|\n",
        "      p_pi = np.einsum('ijk, ij->ik', p, pi)\n",
        "\n",
        "      # New values\n",
        "      v_new = r_pi + self.gamma*np.dot(p_pi,v)\n",
        "      # Stop condition\n",
        "      if np.max(np.absolute(v - v_new)) < self.theta:\n",
        "        v = v_new\n",
        "        break;\n",
        "      v = v_new\n",
        "    return v\n",
        "\n",
        "  def _policy_improvement(self, v, r, p):\n",
        "    \"\"\"\n",
        "    Args:\n",
        "      v: state values, array of shape |S|\n",
        "      p: state transition probabilities, array of shape |S| x |A| x |S|\n",
        "    \"\"\"\n",
        "    # Get value for each action\n",
        "    #set_trace()\n",
        "    q = r + self.gamma*np.einsum('ijk, k->ij', p, v) # get q values\n",
        "    # If a 3rd dimension vector sums to 0, invalid action, so mask\n",
        "    q = ma.masked_array(q, mask=(np.sum(p,axis=2)-1)*(-1))\n",
        "    # New policy is max action (masked elements automatically ignored)\n",
        "    pi = (q == q.max(axis=1)[:,None]).astype(int)\n",
        "    pi = pi.filled(0)\n",
        "    # np.sum(p,axis=2)\n",
        "    # Break ties randomly\n",
        "    if pi.sum()>pi.shape[0]:\n",
        "      for i in range(pi.shape[0]):\n",
        "        if np.sum(pi[i]) == 0: continue\n",
        "        id = np.random.choice(np.where(pi[i] == pi[i].max())[0])\n",
        "        temp = np.zeros_like(pi[i])\n",
        "        temp[id] = 1\n",
        "        pi[i] = temp\n",
        "    return pi\n",
        "\n",
        "  def policy_iteration(self, r, p, method, initial='deterministic'):\n",
        "    \"\"\"\n",
        "    Args:\n",
        "      r: rewards, array of shape |S| x |A|\n",
        "      p: state transition probabilities, array of shape |S| x |A| x |S|\n",
        "      method: `exact` or `modified` (iterative)\n",
        "      initial: if `uniform`, policy is uniformly distributed at the start,\n",
        "        otherwise a deterministic policy is randomly generated\n",
        "    \"\"\"\n",
        "    t1 = datetime.now()\n",
        "    if method == 'exact':\n",
        "      policy_evaluation = self._policy_evaluation_exact\n",
        "    elif method =='modified':\n",
        "      policy_evaluation = self._policy_evaluation_modified\n",
        "    else:\n",
        "      raise ValueError(\"method must be 'exact' or 'modified'\")\n",
        "\n",
        "    n_states, n_actions = p.shape[:2]\n",
        "    # Initial policy estimates\n",
        "    if initial=='uniform':\n",
        "      pi = self._initialize_uniform(p, n_states, n_actions)\n",
        "    else:\n",
        "      pi = self._initialize_deterministic(p, n_states, n_actions)\n",
        "    v = np.zeros(n_states)\n",
        "\n",
        "    # Main loop\n",
        "    policy_stable = False\n",
        "    it = 0\n",
        "    while policy_stable == False:\n",
        "      v = policy_evaluation(pi, v, r, p)\n",
        "      old_actions = pi\n",
        "      pi = self._policy_improvement(v, r, p)\n",
        "      if np.array_equal(pi, old_actions): policy_stable = True\n",
        "      it += 1\n",
        "    \n",
        "    # Evaluate final policy\n",
        "    v = policy_evaluation(pi, v, r, p) \n",
        "    \n",
        "    t2 = datetime.now()\n",
        "    seconds = (t2 - t1).total_seconds()\n",
        "    return pi, v, it, seconds\n",
        "\n",
        "  def value_iteration(self, r, p):\n",
        "    \"\"\"\n",
        "    Args:\n",
        "      r: rewards, array of shape |S| x |A|\n",
        "      p: state transition probabilities, array of shape |S| x |A| x |S|\n",
        "    Return;\n",
        "      pi: policy, |S| x |A|\n",
        "      v: state values, |S|\n",
        "      it: number of iterations\n",
        "    \"\"\"\n",
        "    t1 = datetime.now()\n",
        "    n_states, n_actions = p.shape[:2]\n",
        "    v = np.zeros(n_states)\n",
        "    max_iteration = 10000\n",
        "    for it in range(max_iteration):\n",
        "      q = r + self.gamma*np.einsum('ijk, k->ij', p, v) # get q values\n",
        "      q = ma.masked_array(q, mask=(np.sum(p,axis=2)-1)*(-1)) #mask invalid actions\n",
        "      v_new = np.max(q, axis=1) # state-values equal max possible values\n",
        "      v_new = v_new.filled(0) # Masked states should have value 0\n",
        "      if np.max(np.absolute(v - v_new)) < self.theta:\n",
        "        v = v_new\n",
        "        break;\n",
        "      v = v_new\n",
        "    # Derive new policy\n",
        "    pi = (q == q.max(axis=1)[:,None]).astype(int)\n",
        "    pi = pi.filled(0)\n",
        "    \n",
        "    t2 = datetime.now()\n",
        "    seconds = (t2 - t1).total_seconds()\n",
        "    return pi, v, it+1, seconds"
      ],
      "execution_count": 0,
      "outputs": []
    },
    {
      "cell_type": "code",
      "metadata": {
        "id": "6tKXWSLGUDUY",
        "colab_type": "code",
        "outputId": "520c7e9b-996d-4622-9504-7f0ded0e74c6",
        "colab": {
          "base_uri": "https://localhost:8080/",
          "height": 200
        }
      },
      "source": [
        "def policy_eval(self, pi, v, r, p):\n",
        "    \"\"\"\n",
        "    Evaluate policy by taking the inverse\n",
        "    Args:\n",
        "      pi: policy, array of shape |S| x |A|\n",
        "      r: rewards, array of shape |S| x |A|\n",
        "      p: state transition probabilities, array of shape |S| x |A| x |S|\n",
        "    Return:\n",
        "      v: 1D array with updated state values\n",
        "    \"\"\"\n",
        "    # Rewards according to policy: Hadamard product and row-wise sum\n",
        "    r_pi = np.einsum('ij,ij->i', pi, r)\n",
        "\n",
        "    # Policy-weighted transitions:\n",
        "    # multiply p by pi by broadcasting pi, then sum second axis\n",
        "    # result is an array of shape |S| x |S|\n",
        "    p_pi = np.einsum('ijk, ij->ik', p, pi)\n",
        "    v = np.dot(inv((np.eye(p_pi.shape[0]) - self.gamma*p_pi)), r_pi)\n",
        "    return v\n",
        "\n",
        "gamma = 0.5\n",
        "policy = np.array(\n",
        "      [[1,0],\n",
        "      [0,1],\n",
        "      [1,0]])\n",
        "\n",
        "p_pi = np.array(\n",
        "        [[0.8, 0.4, 0],\n",
        "        [0.15, 0.5, 0],\n",
        "        [0.05, 0.1, 1]])\n",
        "\n",
        "r_pi = np.array(\n",
        "         [[2,1,0]])\n",
        "\n",
        "v = np.dot(inv((np.eye(p_pi.shape[0]) - gamma*p_pi)), r_pi)"
      ],
      "execution_count": 0,
      "outputs": [
        {
          "output_type": "error",
          "ename": "ValueError",
          "evalue": "ignored",
          "traceback": [
            "\u001b[0;31m---------------------------------------------------------------------------\u001b[0m",
            "\u001b[0;31mValueError\u001b[0m                                Traceback (most recent call last)",
            "\u001b[0;32m<ipython-input-5-36244b5b0001>\u001b[0m in \u001b[0;36m<module>\u001b[0;34m()\u001b[0m\n\u001b[1;32m     33\u001b[0m          [[2,1,0]])\n\u001b[1;32m     34\u001b[0m \u001b[0;34m\u001b[0m\u001b[0m\n\u001b[0;32m---> 35\u001b[0;31m \u001b[0mv\u001b[0m \u001b[0;34m=\u001b[0m \u001b[0mnp\u001b[0m\u001b[0;34m.\u001b[0m\u001b[0mdot\u001b[0m\u001b[0;34m(\u001b[0m\u001b[0minv\u001b[0m\u001b[0;34m(\u001b[0m\u001b[0;34m(\u001b[0m\u001b[0mnp\u001b[0m\u001b[0;34m.\u001b[0m\u001b[0meye\u001b[0m\u001b[0;34m(\u001b[0m\u001b[0mp_pi\u001b[0m\u001b[0;34m.\u001b[0m\u001b[0mshape\u001b[0m\u001b[0;34m[\u001b[0m\u001b[0;36m0\u001b[0m\u001b[0;34m]\u001b[0m\u001b[0;34m)\u001b[0m \u001b[0;34m-\u001b[0m \u001b[0mgamma\u001b[0m\u001b[0;34m*\u001b[0m\u001b[0mp_pi\u001b[0m\u001b[0;34m)\u001b[0m\u001b[0;34m)\u001b[0m\u001b[0;34m,\u001b[0m \u001b[0mr_pi\u001b[0m\u001b[0;34m)\u001b[0m\u001b[0;34m\u001b[0m\u001b[0;34m\u001b[0m\u001b[0m\n\u001b[0m",
            "\u001b[0;31mValueError\u001b[0m: shapes (3,3) and (1,3) not aligned: 3 (dim 1) != 1 (dim 0)"
          ]
        }
      ]
    },
    {
      "cell_type": "markdown",
      "metadata": {
        "id": "1ADobcx3P7Wc",
        "colab_type": "text"
      },
      "source": [
        "## Basic MDP Experiment\n",
        "\n",
        "The first MDP is a basic MDP which consists of two states and three actions, with the following transition probabilities and rewards:\n",
        "\n",
        "**Transition Probabilities**:\n",
        "- P(s_0 | s_0, a_0) = 0.5\n",
        "- P(s_1 | s_0, a_0) = 0.5\n",
        "- P(s_0 | s_0, a_1) = 0\n",
        "- P(s_1 | s_0, a_1) = 1\n",
        "- P(s_1 | s_0, a_2) = 0\n",
        "- P(s_1 | s_1, a_2) = 1\n",
        "\n",
        "**Rewards**:\n",
        "- r(s_0, a_0) = 5\n",
        "- r(s_0, a_1) = 10\n",
        "- r(s_1, a_2) = -1\n",
        "\n",
        "The above MDP is implemented below as a class environment with transitions as array `p` and rewards as array `r`"
      ]
    },
    {
      "cell_type": "code",
      "metadata": {
        "id": "BlM8WuFNm6zB",
        "colab_type": "code",
        "colab": {}
      },
      "source": [
        "class BasicMDP():\n",
        "  def __init__(self):\n",
        "    \"\"\"Very basic MDP to test policy/value iteration\"\"\"\n",
        "    # Transition probabilities is a 3D array of shape |S| x |A| x |S|\n",
        "    # the \n",
        "    self.p = np.array(\n",
        "        [[[0.5, 0.5],[0,1],[0,0]],\n",
        "         [[0.0, 0.0],[0,0],[0,1]]])\n",
        "\n",
        "    # Rewards is a function of state and action, i.e. r(s,a), shape |S| x |A|\n",
        "    self.r = np.array(\n",
        "        [[5, 10,  0],\n",
        "         [0,  0, -1]])"
      ],
      "execution_count": 0,
      "outputs": []
    },
    {
      "cell_type": "markdown",
      "metadata": {
        "id": "5TogFyUfA87l",
        "colab_type": "text"
      },
      "source": [
        "Let's solve this MDP and see if we arrive at the same solution using policy iteration, modified policy iteration, value iteration, and their compute time."
      ]
    },
    {
      "cell_type": "code",
      "metadata": {
        "id": "lI3SpukP8s2H",
        "colab_type": "code",
        "outputId": "2a857f5e-b5a7-4e6f-ea62-1f97fe9071bd",
        "colab": {
          "base_uri": "https://localhost:8080/",
          "height": 1019
        }
      },
      "source": [
        "def print_info(pi, v, it, sec, title):\n",
        "  print(\"=\"*79)\n",
        "  print(title)\n",
        "  print(\"Final Policy:\")\n",
        "  print_policy(pi,2)\n",
        "  print(\"Values:\")\n",
        "  print_values(v,6)\n",
        "  print(\"compute seconds: \", sec)\n",
        "  print(\"iterations: \", it)\n",
        "  print()\n",
        "\n",
        "def experiment_1():\n",
        "  gamma = 0.95\n",
        "  agent = MDPAgent(gamma)\n",
        "  env = BasicMDP()\n",
        "  \n",
        "  title = \"Policy Iteration with closed form policy evaluation\"\n",
        "  pi1, v, it, sec = agent.policy_iteration(env.r, env.p, method='exact', initial='deterministic')\n",
        "  print_info(pi1,v,it,sec,title)\n",
        "\n",
        "  title = \"Modified Policy Iteration with partial policy evaluation\"\n",
        "  pi2, v, it, sec = agent.policy_iteration(env.r, env.p, method='modified', initial='deterministic')\n",
        "  print_info(pi2,v,it,sec,title)\n",
        "\n",
        "  title = \"Value Iteration\"\n",
        "  pi3, v, it, sec = agent.value_iteration(env.r, env.p)\n",
        "  print_info(pi3,v,it,sec,title)\n",
        "  \n",
        "  if (np.array_equal(pi1,pi2) and np.array_equal(pi2, pi3)):\n",
        "    print(\"all policies are equal\")\n",
        "  else:\n",
        "    print(\"policies not equal\")\n",
        "  \n",
        "experiment_1()"
      ],
      "execution_count": 0,
      "outputs": [
        {
          "output_type": "stream",
          "text": [
            "===============================================================================\n",
            "Policy Iteration with closed form policy evaluation\n",
            "Final Policy:\n",
            "+--------+----------+----------+----------+\n",
            "| states | action 0 | action 1 | action 2 |\n",
            "+--------+----------+----------+----------+\n",
            "|   0    |    1     |    0     |    0     |\n",
            "|   1    |    0     |    0     |    1     |\n",
            "+--------+----------+----------+----------+\n",
            "Values:\n",
            "+--------+-----------+\n",
            "| states |   values  |\n",
            "+--------+-----------+\n",
            "|   0    | -8.571429 |\n",
            "|   1    |   -20.0   |\n",
            "+--------+-----------+\n",
            "compute seconds:  0.003935\n",
            "iterations:  3\n",
            "\n",
            "===============================================================================\n",
            "Modified Policy Iteration with partial policy evaluation\n",
            "Final Policy:\n",
            "+--------+----------+----------+----------+\n",
            "| states | action 0 | action 1 | action 2 |\n",
            "+--------+----------+----------+----------+\n",
            "|   0    |    1     |    0     |    0     |\n",
            "|   1    |    0     |    0     |    1     |\n",
            "+--------+----------+----------+----------+\n",
            "Values:\n",
            "+--------+------------+\n",
            "| states |   values   |\n",
            "+--------+------------+\n",
            "|   0    | -8.571411  |\n",
            "|   1    | -19.999983 |\n",
            "+--------+------------+\n",
            "compute seconds:  0.035854\n",
            "iterations:  1\n",
            "\n",
            "===============================================================================\n",
            "Value Iteration\n",
            "Final Policy:\n",
            "+--------+----------+----------+----------+\n",
            "| states | action 0 | action 1 | action 2 |\n",
            "+--------+----------+----------+----------+\n",
            "|   0    |    1     |    0     |    0     |\n",
            "|   1    |    0     |    0     |    1     |\n",
            "+--------+----------+----------+----------+\n",
            "Values:\n",
            "+--------+------------+\n",
            "| states |   values   |\n",
            "+--------+------------+\n",
            "|   0    |  -8.57141  |\n",
            "|   1    | -19.999982 |\n",
            "+--------+------------+\n",
            "compute seconds:  0.090094\n",
            "iterations:  271\n",
            "\n",
            "all policies are equal\n"
          ],
          "name": "stdout"
        }
      ]
    },
    {
      "cell_type": "markdown",
      "metadata": {
        "id": "6yH588S6jqG8",
        "colab_type": "text"
      },
      "source": [
        "All 3 methods arrive at the same policy and values. It seems, however, that on this trivial MDP the policy iteration with the closed form version of policy evaluation is the fastest method, while only marginally faster than modified policy iteration. This may be due to the random initialization of our policy, and so it would be prudent to repeat the exercise and average the results:"
      ]
    },
    {
      "cell_type": "code",
      "metadata": {
        "id": "1JlAa8xrkxtS",
        "colab_type": "code",
        "outputId": "92fb318f-bfd5-42b2-d88c-9565c25c4ecc",
        "colab": {
          "base_uri": "https://localhost:8080/",
          "height": 69
        }
      },
      "source": [
        "def experiment_2():\n",
        "  gamma = 0.95\n",
        "  agent = MDPAgent(gamma)\n",
        "  env = BasicMDP()\n",
        "  \n",
        "  trials = 100\n",
        "  pol_it = np.zeros(trials)\n",
        "  mod_it = np.zeros(trials)\n",
        "  val_it = np.zeros(trials)\n",
        "  pol_time = np.zeros(trials)\n",
        "  mod_time = np.zeros(trials)\n",
        "  val_time = np.zeros(trials)\n",
        "\n",
        "  for i in range(trials):\n",
        "    _, _, pol_it[i], pol_time[i] = agent.policy_iteration(env.r, env.p, method='exact', initial='deterministic')\n",
        "    _, _, mod_it[i], mod_time[i] = agent.policy_iteration(env.r, env.p, method='modified', initial='deterministic')\n",
        "    _, _, val_it[i], val_time[i] = agent.value_iteration(env.r, env.p)\n",
        "\n",
        "  print(\"Policy iteration: {:.4f} seconds, {:.2f} iterations\".format(np.sum(pol_time)/trials, np.sum(pol_it)/trials))\n",
        "  print(\"Modified policy : {:.4f} seconds, {:.2f} iterations\".format(np.sum(mod_time)/trials, np.sum(mod_it)/trials))\n",
        "  print(\"Value iteration : {:.4f} seconds, {:.2f} iterations\".format(np.sum(val_time)/trials, np.sum(val_it)/trials))\n",
        "\n",
        "experiment_2()"
      ],
      "execution_count": 0,
      "outputs": [
        {
          "output_type": "stream",
          "text": [
            "Policy iteration: 0.0022 seconds, 2.69 iterations\n",
            "Modified policy : 0.0392 seconds, 2.52 iterations\n",
            "Value iteration : 0.0807 seconds, 271.00 iterations\n"
          ],
          "name": "stdout"
        }
      ]
    },
    {
      "cell_type": "markdown",
      "metadata": {
        "id": "O9H-mfU4slb8",
        "colab_type": "text"
      },
      "source": [
        "Value iteration may seem more elegant mathematically, since it does not alternate between policy evaluation and policy improvement, it takes much longer to converge on this MDP as it requires a large number of iterations to converge. Policy iteration converges much faster than other methods, although this might not be feasible in a realistic MDP where taking a matrix inverse may not be feasible. Next, we test these algorithms in a Grid World setup. "
      ]
    },
    {
      "cell_type": "markdown",
      "metadata": {
        "id": "yhwwIY_N_o85",
        "colab_type": "text"
      },
      "source": [
        "## Grid World Experiment\n",
        "\n",
        "To experiment with a more elaborate MDP, the GridWorld class is implemented below. The class will automatically create transition and reward arrays for an arbitrary sized grid and any number of terminal states. Rewards are -1 for all transitions, while terminal states have 0 reward."
      ]
    },
    {
      "cell_type": "markdown",
      "metadata": {
        "id": "DTd47cWlamwo",
        "colab_type": "text"
      },
      "source": [
        ""
      ]
    },
    {
      "cell_type": "code",
      "metadata": {
        "id": "95gFQOcnmuI-",
        "colab_type": "code",
        "colab": {}
      },
      "source": [
        "class GridWorld():\n",
        "  def __init__(self, rows, cols, terminal_states, reward_value):\n",
        "    \"\"\"\n",
        "    Creates a GridWorld of size `rows` X `cols` with the listed terminal states\n",
        "    Args:\n",
        "      rows: int\n",
        "      cols: int\n",
        "      terminal_states: list of int where each element is the grid index of the\n",
        "        terminal state. The grid's cells are numbered left to right, top to\n",
        "        bottom, starting with index 0.\n",
        "    \"\"\"\n",
        "    self.rows, self.cols = rows, cols\n",
        "    self.terminal_states = terminal_states\n",
        "    self.n_states = rows * cols # number of states\n",
        "    self.n_actions = 4 # left, up, right, down\n",
        "    self.p = self._init_dynamics(rows, cols, self.n_states, self.n_actions, terminal_states)\n",
        "    self.r = self._init_rewards(self.n_states, self.n_actions, reward_value, terminal_states)\n",
        "\n",
        "  def _init_dynamics(self, rows, cols, n_states, n_actions, terminal_states):\n",
        "    \"\"\" Returns model dynamics array of shape |S| x |A| x |S| \"\"\"\n",
        "    # Empty transition array\n",
        "    p = np.zeros((n_states,n_actions,n_states))\n",
        "    # Add deterministic transitions by traversing an imaginary grid\n",
        "    for r in range(rows):\n",
        "      for c in range(cols):\n",
        "        cur_s = rows*r + c # current state\n",
        "\n",
        "        # left?\n",
        "        left_s = rows*r + c -1 # left state id\n",
        "        if (c-1) >= 0: p[cur_s,0, left_s] = 1\n",
        "\n",
        "        # up?\n",
        "        up_s = rows*(r - 1) + c # up state id\n",
        "        if (r-1) >= 0: p[cur_s, 1, up_s] = 1;\n",
        "\n",
        "        # right?\n",
        "        right_s = rows*r + c + 1 # right state id\n",
        "        if (c+1) < cols: p[cur_s, 2, right_s] = 1;\n",
        "\n",
        "        # down?\n",
        "        down_s = rows*(r + 1) + c # down state id\n",
        "        if (r+1) < rows: p[cur_s, 3, down_s] = 1;\n",
        "\n",
        "    # Terminal states have no actions\n",
        "    for t in terminal_states:\n",
        "      p[t] = 0\n",
        "    return p\n",
        "\n",
        "  def _init_rewards(self, n_states, n_actions, reward_value, terminal_states):\n",
        "    \"\"\" Returns reward matrix, shape |S| x |A| \"\"\"\n",
        "    # Rewards are -1 on all actions. No rewards for terminal since no action\n",
        "    r = np.full((n_states, n_actions), reward_value)\n",
        "    for t in terminal_states:\n",
        "      r[t] = 0\n",
        "    return r\n",
        "  \n",
        "  def render_policy(self, pi):\n",
        "    pass\n",
        "\n",
        "  def __str__(self):\n",
        "    \"\"\" Print the grid \"\"\"\n",
        "    x = PrettyTable()\n",
        "    x.header = False\n",
        "\n",
        "    for r in range(self.rows):\n",
        "      row = []\n",
        "      for c in range(self.cols):\n",
        "        cur_s = self.rows*r + c # current state\n",
        "        if cur_s in self.terminal_states:\n",
        "          row.append('#')\n",
        "        else:\n",
        "          row.append('-')\n",
        "      x.add_row(row)\n",
        "    x.hrules = ALL\n",
        "    return x.get_string()"
      ],
      "execution_count": 0,
      "outputs": []
    },
    {
      "cell_type": "markdown",
      "metadata": {
        "id": "AsDziouMxl9q",
        "colab_type": "text"
      },
      "source": [
        "We first start with a simple 4 x 4 grid with 3 terminal states and visualize it. Note the hash symbol stands for terminal states."
      ]
    },
    {
      "cell_type": "code",
      "metadata": {
        "id": "Ye8A4gb6RenU",
        "colab_type": "code",
        "outputId": "01c1df00-290f-4141-a21d-ff250a37150c",
        "colab": {
          "base_uri": "https://localhost:8080/",
          "height": 172
        }
      },
      "source": [
        "rows = cols = 4\n",
        "terminal_states = [0,6,15]\n",
        "env = GridWorld(rows, cols, terminal_states, reward_value=-1)\n",
        "print(env)"
      ],
      "execution_count": 0,
      "outputs": [
        {
          "output_type": "stream",
          "text": [
            "+---+---+---+---+\n",
            "| # | - | - | - |\n",
            "+---+---+---+---+\n",
            "| - | - | # | - |\n",
            "+---+---+---+---+\n",
            "| - | - | - | - |\n",
            "+---+---+---+---+\n",
            "| - | - | - | # |\n",
            "+---+---+---+---+\n"
          ],
          "name": "stdout"
        }
      ]
    },
    {
      "cell_type": "markdown",
      "metadata": {
        "id": "UUNzGAKfyjEy",
        "colab_type": "text"
      },
      "source": [
        "### Baseline\n",
        "\n",
        "Let's first test if all methods arrive at the same policy, and their compute time."
      ]
    },
    {
      "cell_type": "code",
      "metadata": {
        "id": "1p6XZhf_uKiR",
        "colab_type": "code",
        "outputId": "954eb4a0-5996-496a-fddc-013e8c23ea04",
        "colab": {
          "base_uri": "https://localhost:8080/",
          "height": 138
        }
      },
      "source": [
        "def experiment_3():\n",
        "  rows = cols = 4\n",
        "  terminal_states = [0,6,15]\n",
        "  env = GridWorld(rows, cols, terminal_states, reward_value=-1)\n",
        "  gamma = 0.95\n",
        "  agent = MDPAgent(gamma)\n",
        "  \n",
        "  title = \"Policy Iteration with closed form policy evaluation\"\n",
        "  pi1, v, it, sec = agent.policy_iteration(env.r, env.p, method='exact', initial='deterministic')\n",
        "  print(title)\n",
        "  print(sec)\n",
        "\n",
        "  title = \"Modified Policy Iteration with partial policy evaluation\"\n",
        "  pi2, v, it, sec = agent.policy_iteration(env.r, env.p, method='modified', initial='deterministic')\n",
        "  print(title)\n",
        "  print(sec)\n",
        "\n",
        "  title = \"Value Iteration\"\n",
        "  pi3, v, it, sec = agent.value_iteration(env.r, env.p)\n",
        "  print(title)\n",
        "  print(sec)\n",
        "  \n",
        "  if (np.array_equal(pi1,pi2) and np.array_equal(pi2, pi3)):\n",
        "    print(\"all policies are equal\")\n",
        "  else:\n",
        "    print(\"policies not equal\")\n",
        "  \n",
        "experiment_3()"
      ],
      "execution_count": 0,
      "outputs": [
        {
          "output_type": "stream",
          "text": [
            "Policy Iteration with closed form policy evaluation\n",
            "0.005941\n",
            "Modified Policy Iteration with partial policy evaluation\n",
            "0.039605\n",
            "Value Iteration\n",
            "0.001773\n",
            "all policies are equal\n"
          ],
          "name": "stdout"
        }
      ]
    },
    {
      "cell_type": "markdown",
      "metadata": {
        "id": "mF543XaqJAl0",
        "colab_type": "text"
      },
      "source": [
        "### Varying discount rate\n",
        "\n",
        "They all converge once again to the same solution. If we vary gamma, how does this affect convergence time?"
      ]
    },
    {
      "cell_type": "code",
      "metadata": {
        "id": "7W1oI0h-fEEK",
        "colab_type": "code",
        "colab": {}
      },
      "source": [
        "def multi_plot_data(x, data, names, xlabel):\n",
        "  \"\"\" data, names are lists of vectors \"\"\"\n",
        "  for i, y in enumerate(data):\n",
        "    plt.plot(x, y, 'o', markersize=3, label=names[i])\n",
        "  plt.legend(loc='upper left', prop={'size': 16}, numpoints=10)\n",
        "  plt.xlabel(xlabel)\n",
        "  plt.ylabel(\"milliseconds\")\n",
        "  plt.show()"
      ],
      "execution_count": 0,
      "outputs": []
    },
    {
      "cell_type": "code",
      "metadata": {
        "id": "CIUiYT85Mz3u",
        "colab_type": "code",
        "outputId": "c2c13ffa-7550-4348-ab3d-7fd516c9d897",
        "colab": {
          "base_uri": "https://localhost:8080/",
          "height": 398
        }
      },
      "source": [
        "def experiment_4():\n",
        "  rows = cols = 4\n",
        "  terminal_states = [0,6,15]\n",
        "  env = GridWorld(rows, cols, terminal_states, reward_value=-1)\n",
        "  trials = 10\n",
        "  samples = 200\n",
        "  gammas = np.linspace(0.001,1,endpoint=False,num=samples)\n",
        "  pol_time = np.zeros((trials, samples))\n",
        "  mod_time = np.zeros((trials, samples))\n",
        "  val_time = np.zeros((trials, samples))\n",
        "  \n",
        "  for t in range(trials):\n",
        "    for i in range(samples):\n",
        "      agent = MDPAgent(gammas[i])\n",
        "      _, _, _, pol_time[t,i] = agent.policy_iteration(env.r, env.p, method='exact', initial='uniform')\n",
        "      _, _, _, mod_time[t,i] = agent.policy_iteration(env.r, env.p, method='modified', initial='uniform')\n",
        "      _, _, _, val_time[t,i] = agent.value_iteration(env.r, env.p)\n",
        "  \n",
        "  # Plot data\n",
        "  pol_time = np.average(pol_time, axis=0)*1000\n",
        "  mod_time = np.average(mod_time, axis=0)*1000\n",
        "  val_time = np.average(val_time, axis=0)*1000\n",
        "  data = [pol_time, mod_time, val_time]\n",
        "  names = [\"Policy Iteration\", \"Modified PI\", \"Value Iteration\"]\n",
        "  multi_plot_data(gammas, data, names, xlabel=\"gamma\")\n",
        "\n",
        "experiment_4()"
      ],
      "execution_count": 0,
      "outputs": [
        {
          "output_type": "stream",
          "text": [
            "/usr/local/lib/python3.6/dist-packages/ipykernel_launcher.py:24: RuntimeWarning: invalid value encountered in true_divide\n"
          ],
          "name": "stderr"
        },
        {
          "output_type": "display_data",
          "data": {
            "image/png": "[encoded data removed]",
            "text/plain": [
              "<matplotlib.figure.Figure at 0x7f1614bca630>"
            ]
          },
          "metadata": {
            "tags": []
          }
        }
      ]
    },
    {
      "cell_type": "markdown",
      "metadata": {
        "id": "R1l2MAEaYOUT",
        "colab_type": "text"
      },
      "source": [
        "In this setup, value iteration computes faster than either policy iteration or modified policy iteration, with modified policy iteration increasing exponentially with gamma. Value iteration is quite robust varying gamma.\n",
        "\n",
        "### Varying MDP Complexity\n",
        "Let's see if increasing the model complexity has an large impact on the algorithms"
      ]
    },
    {
      "cell_type": "code",
      "metadata": {
        "id": "-n7xZVK6Z-hj",
        "colab_type": "code",
        "outputId": "5b9d8eff-99a2-49ec-f5ab-2b87aab69503",
        "colab": {
          "base_uri": "https://localhost:8080/",
          "height": 69
        }
      },
      "source": [
        "def experiment_5():\n",
        "  gamma = 0.95\n",
        "  agent = MDPAgent(gamma)\n",
        "  terminal_states = [0,6]\n",
        "  rows = cols = 5\n",
        "  env = GridWorld(rows, cols, terminal_states, reward_value=-1)\n",
        "  \n",
        "  _, _, pol_it, pol_time = agent.policy_iteration(env.r, env.p, method='exact', initial='deterministic')\n",
        "  _, _, mod_it, mod_time = agent.policy_iteration(env.r, env.p, method='modified', initial='deterministic')\n",
        "  _, _, val_it, val_time = agent.value_iteration(env.r, env.p)\n",
        "\n",
        "  print(\"Policy iteration: {:.4f} seconds, {:.2f} iterations\".format(pol_time, pol_it))\n",
        "  print(\"Modified policy : {:.4f} seconds, {:.2f} iterations\".format(mod_time, mod_it))\n",
        "  print(\"Value iteration : {:.4f} seconds, {:.2f} iterations\".format(val_time, val_it))\n",
        "\n",
        "experiment_5()"
      ],
      "execution_count": 0,
      "outputs": [
        {
          "output_type": "stream",
          "text": [
            "Policy iteration: 92.0373 seconds, 46441.00 iterations\n",
            "Modified policy : 307.7097 seconds, 216967.00 iterations\n",
            "Value iteration : 0.0024 seconds, 7.00 iterations\n"
          ],
          "name": "stdout"
        }
      ]
    },
    {
      "cell_type": "markdown",
      "metadata": {
        "id": "NO9i4qXOUX0u",
        "colab_type": "text"
      },
      "source": [
        "Increasing the grid size by a single column and row makes computation time explode for Policy Iteration and much worse for Modified Policy Iteration. Quite surprisingly, it's no sweat for Value Iteration. Value Iteration converges a fraction of a second, compared to 307 in the case of modified policy iteration. It only required 7 iterations compared to 216,967 for modified policy. Outstanding!\n",
        "\n"
      ]
    }
  ]
}